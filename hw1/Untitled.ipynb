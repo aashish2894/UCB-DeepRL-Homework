{
 "cells": [
  {
   "cell_type": "code",
   "execution_count": 1,
   "metadata": {},
   "outputs": [],
   "source": [
    "import gym"
   ]
  },
  {
   "cell_type": "code",
   "execution_count": 2,
   "metadata": {},
   "outputs": [
    {
     "data": {
      "text/plain": [
       "array([ 1.40119547e+00,  9.99944212e-01,  1.39455249e-03, -5.77815271e-03,\n",
       "        8.73158523e-03,  9.99444091e-03, -2.06473014e-03,  9.39421012e-03,\n",
       "        7.12146121e-03,  4.54780621e-03, -7.26321565e-03, -7.47829413e-03,\n",
       "        8.94979272e-04, -9.50543089e-03,  2.83799676e-03,  5.80272723e-03,\n",
       "        6.85247042e-03,  5.01261761e-03,  2.30522790e-03,  4.38527872e-03,\n",
       "       -7.90813777e-03,  7.35899549e-03,  7.30232647e-03, -5.05408238e-03,\n",
       "       -3.83216089e-03, -7.01130581e-03,  2.05523543e-03,  6.01117835e-03,\n",
       "       -8.94848030e-03,  9.20798931e-03,  6.15132757e-03, -7.26493136e-03,\n",
       "        5.38713700e-05, -9.86278748e-03, -6.93161044e-03,  9.89478121e-03,\n",
       "        1.83021514e-03,  2.38928504e-03, -2.73163060e-03,  4.80380954e-04,\n",
       "       -2.64107611e-03,  1.26201338e-03,  2.81867732e-03,  3.41518149e-03,\n",
       "        8.23616655e-03,  0.00000000e+00,  0.00000000e+00,  0.00000000e+00,\n",
       "        0.00000000e+00,  0.00000000e+00,  0.00000000e+00,  0.00000000e+00,\n",
       "        0.00000000e+00,  0.00000000e+00,  0.00000000e+00,  2.22759984e+00,\n",
       "        2.22121180e+00,  3.86389273e-02, -8.03915194e-04,  1.02765277e-01,\n",
       "        2.02430580e-02, -2.09771031e-01, -4.00518071e-02,  4.14879796e+00,\n",
       "        8.32207894e+00,  8.72520805e-02,  8.52906408e-02,  9.09358194e-03,\n",
       "       -1.41163185e-04,  1.17605282e-02,  1.63324195e-03, -5.93645530e-02,\n",
       "       -8.29124490e-03,  4.03287805e-01,  2.03575204e+00,  4.39608053e-02,\n",
       "        4.25068767e-02,  5.02415058e-02, -4.76549027e-04,  8.86098507e-03,\n",
       "        4.43212679e-04, -2.70818260e-01, -1.86367791e-02,  1.91399658e-01,\n",
       "        5.85278711e+00,  2.47305014e-01,  2.08930039e-01,  4.95378308e-02,\n",
       "       -7.70961913e-03, -1.29442954e-02, -7.26603944e-02, -8.14539605e-02,\n",
       "       -4.24118860e-01, -8.04859513e-01,  4.52555626e+00,  8.72813376e-01,\n",
       "        8.55670790e-01,  2.07103713e-02, -1.83826591e-03, -1.21007643e-02,\n",
       "       -1.19259240e-01, -2.25249585e-02, -2.13631943e-01, -1.47565802e+00,\n",
       "        2.63249442e+00,  1.03648886e+00,  1.02598351e+00,  1.45489911e-02,\n",
       "       -5.96712689e-04, -5.87601354e-03, -1.03782035e-01, -7.72679052e-03,\n",
       "       -1.36470422e-01, -1.34386626e+00,  1.76714587e+00,  2.44755077e-01,\n",
       "        2.06901494e-01,  5.16380603e-02,  1.06844163e-02, -1.86630173e-02,\n",
       "        7.43468947e-02, -1.12519588e-01,  4.28935664e-01, -7.95019618e-01,\n",
       "        4.52555626e+00,  8.73132169e-01,  8.50493186e-01,  2.72794876e-02,\n",
       "        4.11019039e-03, -2.37969221e-02,  1.38867534e-01, -4.36939458e-02,\n",
       "        2.48064894e-01, -1.47055038e+00,  2.63249442e+00,  1.03724947e+00,\n",
       "        1.02101004e+00,  2.07021401e-02,  2.00262197e-03, -1.57289578e-02,\n",
       "        1.29458500e-01, -2.07357800e-02,  1.70667568e-01, -1.34045417e+00,\n",
       "        1.76714587e+00,  4.16751579e-01,  3.22242533e-01,  1.17470818e-01,\n",
       "        2.95106844e-02, -3.95086093e-02,  1.72026501e-01,  1.00169127e-01,\n",
       "       -4.02009441e-01,  6.98322228e-01,  1.59405984e+00,  3.20184070e-01,\n",
       "        3.41199118e-01,  1.64633252e-01,  7.33243864e-02, -1.51105203e-01,\n",
       "        1.23875269e-01,  3.26148918e-01, -2.83987163e-01,  5.40536416e-01,\n",
       "        1.19834313e+00,  4.16348929e-01,  3.23883055e-01,  1.11749952e-01,\n",
       "       -2.57560397e-02, -3.40831054e-02, -1.69124240e-01,  8.67638590e-02,\n",
       "        3.93339110e-01,  7.02483221e-01,  1.59405984e+00,  3.25615572e-01,\n",
       "        3.40232674e-01,  1.60033090e-01, -7.13616461e-02, -1.47722364e-01,\n",
       "       -1.26168788e-01,  3.15526963e-01,  2.86190424e-01,  5.45580671e-01,\n",
       "        1.19834313e+00,  0.00000000e+00,  0.00000000e+00,  0.00000000e+00,\n",
       "        0.00000000e+00,  0.00000000e+00,  0.00000000e+00, -7.11500734e-03,\n",
       "        1.91522282e-03,  5.93508712e-03,  6.39715725e-03, -8.18183764e-03,\n",
       "       -3.90797064e-03, -7.22896864e-03,  1.11461921e-02, -2.98895827e-03,\n",
       "        4.00665629e-03, -8.48225964e-03, -4.18819799e-03, -1.08139683e-03,\n",
       "        1.13147862e-02, -2.85566299e-03,  3.98369733e-03, -7.66019857e-03,\n",
       "       -4.16908888e-03, -8.02380672e-03,  1.25876380e-03, -3.14608206e-03,\n",
       "        3.93245097e-03, -7.61093255e-03, -4.64993501e-03, -8.24815901e-03,\n",
       "        8.18549797e-03, -3.01476892e-03,  6.62711207e-03, -7.52170435e-03,\n",
       "       -4.75279332e-03, -8.24815901e-03,  8.18549797e-03, -3.01476892e-03,\n",
       "        6.62711207e-03, -7.52170435e-03, -4.75279332e-03, -1.10198092e-02,\n",
       "        1.34523582e-02, -4.87389191e-03,  3.79837386e-03, -7.66085969e-03,\n",
       "       -3.25719634e-03, -1.11212886e-02,  1.61819431e-02, -4.84432817e-03,\n",
       "        4.86202706e-03, -7.62080410e-03, -3.30442648e-03, -1.11212886e-02,\n",
       "        1.61819431e-02, -4.84432817e-03,  4.86202706e-03, -7.62080410e-03,\n",
       "       -3.30442648e-03, -6.75040862e-03,  4.00040131e-03,  4.28428510e-03,\n",
       "        5.60614455e-03, -8.02611404e-03, -3.88597570e-03, -6.73996518e-03,\n",
       "        3.10071427e-03,  5.16923253e-03,  5.60190585e-03, -8.16984104e-03,\n",
       "       -4.03204658e-03, -4.88587616e-03,  3.20020562e-03,  9.53900163e-03,\n",
       "        6.32587455e-03, -6.93214478e-03, -4.30946056e-03, -4.69620611e-03,\n",
       "       -2.58457361e-03,  3.67941173e-03,  6.26781695e-03, -5.95930695e-03,\n",
       "       -5.27175723e-03,  0.00000000e+00,  0.00000000e+00,  0.00000000e+00,\n",
       "        0.00000000e+00,  0.00000000e+00,  0.00000000e+00,  0.00000000e+00,\n",
       "        0.00000000e+00,  0.00000000e+00,  0.00000000e+00,  0.00000000e+00,\n",
       "        0.00000000e+00,  0.00000000e+00,  0.00000000e+00,  0.00000000e+00,\n",
       "        0.00000000e+00,  0.00000000e+00,  0.00000000e+00,  0.00000000e+00,\n",
       "        0.00000000e+00,  0.00000000e+00,  0.00000000e+00,  0.00000000e+00,\n",
       "        0.00000000e+00,  0.00000000e+00,  0.00000000e+00,  0.00000000e+00,\n",
       "        0.00000000e+00,  0.00000000e+00,  0.00000000e+00,  0.00000000e+00,\n",
       "        0.00000000e+00,  0.00000000e+00,  0.00000000e+00,  0.00000000e+00,\n",
       "        0.00000000e+00,  0.00000000e+00,  0.00000000e+00,  0.00000000e+00,\n",
       "        0.00000000e+00,  0.00000000e+00,  0.00000000e+00,  0.00000000e+00,\n",
       "        0.00000000e+00,  0.00000000e+00,  0.00000000e+00,  0.00000000e+00,\n",
       "        0.00000000e+00,  0.00000000e+00,  0.00000000e+00,  0.00000000e+00,\n",
       "        0.00000000e+00,  0.00000000e+00,  0.00000000e+00,  0.00000000e+00,\n",
       "        0.00000000e+00,  0.00000000e+00,  0.00000000e+00,  0.00000000e+00,\n",
       "        0.00000000e+00,  0.00000000e+00,  0.00000000e+00,  0.00000000e+00,\n",
       "        0.00000000e+00,  0.00000000e+00,  0.00000000e+00,  0.00000000e+00,\n",
       "        0.00000000e+00,  0.00000000e+00,  0.00000000e+00,  0.00000000e+00,\n",
       "        0.00000000e+00,  0.00000000e+00,  0.00000000e+00,  0.00000000e+00,\n",
       "        0.00000000e+00,  0.00000000e+00,  0.00000000e+00,  0.00000000e+00,\n",
       "        0.00000000e+00,  0.00000000e+00,  0.00000000e+00,  0.00000000e+00,\n",
       "        0.00000000e+00,  0.00000000e+00,  0.00000000e+00,  0.00000000e+00,\n",
       "        0.00000000e+00,  0.00000000e+00,  0.00000000e+00,  0.00000000e+00,\n",
       "        0.00000000e+00,  0.00000000e+00,  0.00000000e+00,  0.00000000e+00,\n",
       "        0.00000000e+00,  0.00000000e+00,  0.00000000e+00,  0.00000000e+00,\n",
       "        0.00000000e+00,  0.00000000e+00,  0.00000000e+00,  0.00000000e+00,\n",
       "        0.00000000e+00,  0.00000000e+00,  0.00000000e+00,  0.00000000e+00])"
      ]
     },
     "execution_count": 2,
     "metadata": {},
     "output_type": "execute_result"
    }
   ],
   "source": [
    "env = gym.make(\"Humanoid-v2\")\n",
    "env.reset()"
   ]
  },
  {
   "cell_type": "code",
   "execution_count": 4,
   "metadata": {},
   "outputs": [],
   "source": [
    "obs, r, done, _ = env.step(env.action_space.sample())"
   ]
  },
  {
   "cell_type": "code",
   "execution_count": 5,
   "metadata": {},
   "outputs": [
    {
     "data": {
      "text/plain": [
       "4.917548505608615"
      ]
     },
     "execution_count": 5,
     "metadata": {},
     "output_type": "execute_result"
    }
   ],
   "source": [
    "r"
   ]
  },
  {
   "cell_type": "code",
   "execution_count": 6,
   "metadata": {},
   "outputs": [
    {
     "data": {
      "text/plain": [
       "False"
      ]
     },
     "execution_count": 6,
     "metadata": {},
     "output_type": "execute_result"
    }
   ],
   "source": [
    "done"
   ]
  },
  {
   "cell_type": "code",
   "execution_count": 7,
   "metadata": {},
   "outputs": [
    {
     "data": {
      "text/plain": [
       "{'reward_linvel': 0.004517575026562713,\n",
       " 'reward_quadctrl': -0.08696906941794776,\n",
       " 'reward_alive': 5.0,\n",
       " 'reward_impact': -0.0}"
      ]
     },
     "execution_count": 7,
     "metadata": {},
     "output_type": "execute_result"
    }
   ],
   "source": [
    "_"
   ]
  },
  {
   "cell_type": "code",
   "execution_count": 9,
   "metadata": {},
   "outputs": [
    {
     "data": {
      "text/plain": [
       "(376,)"
      ]
     },
     "execution_count": 9,
     "metadata": {},
     "output_type": "execute_result"
    }
   ],
   "source": [
    "obs.shape"
   ]
  },
  {
   "cell_type": "code",
   "execution_count": 10,
   "metadata": {},
   "outputs": [
    {
     "data": {
      "text/plain": [
       "array([ 0.02496943,  0.04789126, -0.00483268,  0.0029496 ])"
      ]
     },
     "execution_count": 10,
     "metadata": {},
     "output_type": "execute_result"
    }
   ],
   "source": [
    "env = gym.make(\"CartPole-v0\")\n",
    "env.reset()"
   ]
  },
  {
   "cell_type": "code",
   "execution_count": 4,
   "metadata": {},
   "outputs": [
    {
     "data": {
      "text/plain": [
       "(11,)"
      ]
     },
     "execution_count": 4,
     "metadata": {},
     "output_type": "execute_result"
    }
   ],
   "source": [
    "import gym\n",
    "env = gym.make(\"Hopper-v2\")\n",
    "obs = env.reset()\n",
    "obs.shape"
   ]
  },
  {
   "cell_type": "code",
   "execution_count": 3,
   "metadata": {},
   "outputs": [
    {
     "name": "stderr",
     "output_type": "stream",
     "text": [
      "/Users/aashishkumar/anaconda3/lib/python3.6/importlib/_bootstrap.py:219: RuntimeWarning: compiletime version 3.5 of module 'tensorflow.python.framework.fast_tensor_util' does not match runtime version 3.6\n",
      "  return f(*args, **kwds)\n",
      "/Users/aashishkumar/anaconda3/lib/python3.6/site-packages/h5py/__init__.py:36: FutureWarning: Conversion of the second argument of issubdtype from `float` to `np.floating` is deprecated. In future, it will be treated as `np.float64 == np.dtype(float).type`.\n",
      "  from ._conv import register_converters as _register_converters\n"
     ]
    }
   ],
   "source": [
    "import load_policy"
   ]
  },
  {
   "cell_type": "code",
   "execution_count": 4,
   "metadata": {},
   "outputs": [
    {
     "name": "stdout",
     "output_type": "stream",
     "text": [
      "obs (1, 11) (1, 11)\n"
     ]
    }
   ],
   "source": [
    "policy_fn = load_policy.load_policy(\"experts/Hopper-v2.pkl\")"
   ]
  },
  {
   "cell_type": "code",
   "execution_count": 5,
   "metadata": {},
   "outputs": [],
   "source": [
    "obs = env.reset()"
   ]
  },
  {
   "cell_type": "code",
   "execution_count": 6,
   "metadata": {},
   "outputs": [
    {
     "ename": "AttributeError",
     "evalue": "'NoneType' object has no attribute 'run'",
     "output_type": "error",
     "traceback": [
      "\u001b[0;31m---------------------------------------------------------------------------\u001b[0m",
      "\u001b[0;31mAttributeError\u001b[0m                            Traceback (most recent call last)",
      "\u001b[0;32m<ipython-input-6-0924c36f4df0>\u001b[0m in \u001b[0;36m<module>\u001b[0;34m()\u001b[0m\n\u001b[0;32m----> 1\u001b[0;31m \u001b[0maction\u001b[0m \u001b[0;34m=\u001b[0m \u001b[0mpolicy_fn\u001b[0m\u001b[0;34m(\u001b[0m\u001b[0mobs\u001b[0m\u001b[0;34m[\u001b[0m\u001b[0;32mNone\u001b[0m\u001b[0;34m,\u001b[0m\u001b[0;34m:\u001b[0m\u001b[0;34m]\u001b[0m\u001b[0;34m)\u001b[0m\u001b[0;34m\u001b[0m\u001b[0m\n\u001b[0m",
      "\u001b[0;32m~/Documents/MS_3rd_Sem/cs294/homework/hw1/tf_util.py\u001b[0m in \u001b[0;36m<lambda>\u001b[0;34m(*inputs)\u001b[0m\n\u001b[1;32m    219\u001b[0m     \u001b[0;32melse\u001b[0m\u001b[0;34m:\u001b[0m\u001b[0;34m\u001b[0m\u001b[0m\n\u001b[1;32m    220\u001b[0m         \u001b[0mf\u001b[0m \u001b[0;34m=\u001b[0m \u001b[0m_Function\u001b[0m\u001b[0;34m(\u001b[0m\u001b[0minputs\u001b[0m\u001b[0;34m,\u001b[0m \u001b[0;34m[\u001b[0m\u001b[0moutputs\u001b[0m\u001b[0;34m]\u001b[0m\u001b[0;34m,\u001b[0m \u001b[0mupdates\u001b[0m\u001b[0;34m,\u001b[0m \u001b[0mgivens\u001b[0m\u001b[0;34m=\u001b[0m\u001b[0mgivens\u001b[0m\u001b[0;34m)\u001b[0m\u001b[0;34m\u001b[0m\u001b[0m\n\u001b[0;32m--> 221\u001b[0;31m         \u001b[0;32mreturn\u001b[0m \u001b[0;32mlambda\u001b[0m \u001b[0;34m*\u001b[0m\u001b[0minputs\u001b[0m \u001b[0;34m:\u001b[0m \u001b[0mf\u001b[0m\u001b[0;34m(\u001b[0m\u001b[0;34m*\u001b[0m\u001b[0minputs\u001b[0m\u001b[0;34m)\u001b[0m\u001b[0;34m[\u001b[0m\u001b[0;36m0\u001b[0m\u001b[0;34m]\u001b[0m\u001b[0;34m\u001b[0m\u001b[0m\n\u001b[0m\u001b[1;32m    222\u001b[0m \u001b[0;34m\u001b[0m\u001b[0m\n\u001b[1;32m    223\u001b[0m \u001b[0;32mclass\u001b[0m \u001b[0m_Function\u001b[0m\u001b[0;34m(\u001b[0m\u001b[0mobject\u001b[0m\u001b[0;34m)\u001b[0m\u001b[0;34m:\u001b[0m\u001b[0;34m\u001b[0m\u001b[0m\n",
      "\u001b[0;32m~/Documents/MS_3rd_Sem/cs294/homework/hw1/tf_util.py\u001b[0m in \u001b[0;36m__call__\u001b[0;34m(self, *inputvals)\u001b[0m\n\u001b[1;32m    234\u001b[0m         \u001b[0mfeed_dict\u001b[0m \u001b[0;34m=\u001b[0m \u001b[0mdict\u001b[0m\u001b[0;34m(\u001b[0m\u001b[0mzip\u001b[0m\u001b[0;34m(\u001b[0m\u001b[0mself\u001b[0m\u001b[0;34m.\u001b[0m\u001b[0minputs\u001b[0m\u001b[0;34m,\u001b[0m \u001b[0minputvals\u001b[0m\u001b[0;34m)\u001b[0m\u001b[0;34m)\u001b[0m\u001b[0;34m\u001b[0m\u001b[0m\n\u001b[1;32m    235\u001b[0m         \u001b[0mfeed_dict\u001b[0m\u001b[0;34m.\u001b[0m\u001b[0mupdate\u001b[0m\u001b[0;34m(\u001b[0m\u001b[0mself\u001b[0m\u001b[0;34m.\u001b[0m\u001b[0mgivens\u001b[0m\u001b[0;34m)\u001b[0m\u001b[0;34m\u001b[0m\u001b[0m\n\u001b[0;32m--> 236\u001b[0;31m         \u001b[0mresults\u001b[0m \u001b[0;34m=\u001b[0m \u001b[0mget_session\u001b[0m\u001b[0;34m(\u001b[0m\u001b[0;34m)\u001b[0m\u001b[0;34m.\u001b[0m\u001b[0mrun\u001b[0m\u001b[0;34m(\u001b[0m\u001b[0mself\u001b[0m\u001b[0;34m.\u001b[0m\u001b[0moutputs_update\u001b[0m\u001b[0;34m,\u001b[0m \u001b[0mfeed_dict\u001b[0m\u001b[0;34m=\u001b[0m\u001b[0mfeed_dict\u001b[0m\u001b[0;34m)\u001b[0m\u001b[0;34m[\u001b[0m\u001b[0;34m:\u001b[0m\u001b[0;34m-\u001b[0m\u001b[0;36m1\u001b[0m\u001b[0;34m]\u001b[0m\u001b[0;34m\u001b[0m\u001b[0m\n\u001b[0m\u001b[1;32m    237\u001b[0m         \u001b[0;32mif\u001b[0m \u001b[0mself\u001b[0m\u001b[0;34m.\u001b[0m\u001b[0mcheck_nan\u001b[0m\u001b[0;34m:\u001b[0m\u001b[0;34m\u001b[0m\u001b[0m\n\u001b[1;32m    238\u001b[0m             \u001b[0;32mif\u001b[0m \u001b[0many\u001b[0m\u001b[0;34m(\u001b[0m\u001b[0mnp\u001b[0m\u001b[0;34m.\u001b[0m\u001b[0misnan\u001b[0m\u001b[0;34m(\u001b[0m\u001b[0mr\u001b[0m\u001b[0;34m)\u001b[0m\u001b[0;34m.\u001b[0m\u001b[0many\u001b[0m\u001b[0;34m(\u001b[0m\u001b[0;34m)\u001b[0m \u001b[0;32mfor\u001b[0m \u001b[0mr\u001b[0m \u001b[0;32min\u001b[0m \u001b[0mresults\u001b[0m\u001b[0;34m)\u001b[0m\u001b[0;34m:\u001b[0m\u001b[0;34m\u001b[0m\u001b[0m\n",
      "\u001b[0;31mAttributeError\u001b[0m: 'NoneType' object has no attribute 'run'"
     ]
    }
   ],
   "source": [
    "action = policy_fn(obs[None,:])"
   ]
  },
  {
   "cell_type": "code",
   "execution_count": 9,
   "metadata": {},
   "outputs": [
    {
     "name": "stdout",
     "output_type": "stream",
     "text": [
      "WARNING:tensorflow:From /Users/aashishkumar/Documents/MS_3rd_Sem/cs294/homework/hw1/tf_util.py:91: all_variables (from tensorflow.python.ops.variables) is deprecated and will be removed after 2017-03-02.\n",
      "Instructions for updating:\n",
      "Please use tf.global_variables instead.\n",
      "WARNING:tensorflow:From /Users/aashishkumar/anaconda3/lib/python3.6/site-packages/tensorflow/python/util/tf_should_use.py:118: initialize_variables (from tensorflow.python.ops.variables) is deprecated and will be removed after 2017-03-02.\n",
      "Instructions for updating:\n",
      "Use `tf.variables_initializer` instead.\n",
      "[[-0.03170139  2.1286762   1.922359  ]]\n"
     ]
    }
   ],
   "source": [
    "import tensorflow as tf\n",
    "import tf_util\n",
    "with tf.Session():\n",
    "    tf_util.initialize()\n",
    "    action = policy_fn(obs[None,:])\n",
    "    print(action)"
   ]
  },
  {
   "cell_type": "code",
   "execution_count": 6,
   "metadata": {},
   "outputs": [],
   "source": [
    "ac = env.action_space.sample()"
   ]
  },
  {
   "cell_type": "code",
   "execution_count": 7,
   "metadata": {},
   "outputs": [
    {
     "data": {
      "text/plain": [
       "(3,)"
      ]
     },
     "execution_count": 7,
     "metadata": {},
     "output_type": "execute_result"
    }
   ],
   "source": [
    "ac.shape"
   ]
  },
  {
   "cell_type": "code",
   "execution_count": null,
   "metadata": {},
   "outputs": [],
   "source": []
  }
 ],
 "metadata": {
  "kernelspec": {
   "display_name": "Python 3",
   "language": "python",
   "name": "python3"
  },
  "language_info": {
   "codemirror_mode": {
    "name": "ipython",
    "version": 3
   },
   "file_extension": ".py",
   "mimetype": "text/x-python",
   "name": "python",
   "nbconvert_exporter": "python",
   "pygments_lexer": "ipython3",
   "version": "3.6.5"
  }
 },
 "nbformat": 4,
 "nbformat_minor": 2
}
